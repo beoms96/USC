{
 "cells": [
  {
   "cell_type": "code",
   "execution_count": 70,
   "metadata": {},
   "outputs": [],
   "source": [
    "import os\n",
    "import pandas as pd\n",
    "import numpy as np"
   ]
  },
  {
   "cell_type": "markdown",
   "metadata": {},
   "source": [
    "### Loading datasets"
   ]
  },
  {
   "cell_type": "code",
   "execution_count": 71,
   "metadata": {},
   "outputs": [],
   "source": [
    "data_path = './data'\n",
    "\n",
    "# define file path\n",
    "train_file = os.path.join(data_path, 'review_train.csv')\n",
    "test_file = os.path.join(data_path, 'review_test.csv')\n",
    "weight_matrix_file = os.path.join(data_path, 'weight_matrix.csv')\n"
   ]
  },
  {
   "cell_type": "code",
   "execution_count": 72,
   "metadata": {},
   "outputs": [],
   "source": [
    "# read datasets\n",
    "train_data = pd.read_csv(train_file)\n",
    "test_data = pd.read_csv(test_file)\n",
    "weight_matrix = pd.read_csv(weight_matrix_file)\n"
   ]
  },
  {
   "cell_type": "markdown",
   "metadata": {},
   "source": [
    "### Item-based CF Prediction"
   ]
  },
  {
   "cell_type": "code",
   "execution_count": 73,
   "metadata": {},
   "outputs": [],
   "source": [
    "# convert the review data into a dictionary {(uid, bid): rating}\n",
    "review_dict = {(row[0], row[1]): row[2] for row in train_data.values.tolist()}\n",
    "\n",
    "# map each user_id to a list of business {user_id: list[business_ids]}\n",
    "user_groups = train_data.groupby('uid')\n",
    "user_business_dict = {uid: list(user_groups.get_group(uid)['bid']) for uid in user_groups.groups}\n",
    "\n",
    "# transfer weight_matrix to a dictionary {(bid1, bid2): weight}\n",
    "weight_matrix_dict = {(row[0], row[1]): row[2] for row in weight_matrix.values.tolist()}"
   ]
  },
  {
   "cell_type": "code",
   "execution_count": 74,
   "metadata": {},
   "outputs": [],
   "source": [
    "# find the most N correlated business according to the weight matrix\n",
    "\n",
    "def find_n_nearest_business(target_bid, neighbor_business, n=3):\n",
    "    \n",
    "    ### pseudocode ###\n",
    "    # for bid in neighbor_business:\n",
    "    #     get the correlation between the target_bid and bid\n",
    "    \n",
    "    # find the most N correlated business\n",
    "    # return top N business\n",
    "    \n",
    "    neighbor_business_weight = {}\n",
    "    \n",
    "    for bid in neighbor_business:\n",
    "        b_pair = tuple(sorted([target_bid, bid]))\n",
    "        if weight_matrix_dict.get(b_pair):\n",
    "            neighbor_business_weight[bid] = weight_matrix_dict[b_pair]\n",
    "            \n",
    "    sorted_neighbor_business_weight = sorted(neighbor_business_weight.items(), key = lambda kv:kv[1], reverse = True)\n",
    "    \n",
    "    if len(sorted_neighbor_business_weight) > n:\n",
    "        return sorted_neighbor_business_weight[:n]\n",
    "    else:\n",
    "        return sorted_neighbor_business_weight"
   ]
  },
  {
   "cell_type": "code",
   "execution_count": 81,
   "metadata": {},
   "outputs": [],
   "source": [
    "# compute weighted average over neighborhood set\n",
    "\n",
    "def weighted_average_prediction(target_user, target_business, nearest_business_weight):\n",
    "    \n",
    "    ### pseudocode ###\n",
    "    \n",
    "    weighted_sum, sum_weight = 0.0, 0.0\n",
    "    \n",
    "    w_list, r_list = [], []\n",
    "    \n",
    "    for item in nearest_business_weight:  \n",
    "        bid, weight = item[0], item[1]\n",
    "        rating = review_dict[(target_user, bid)]\n",
    "        w_list.append(weight)\n",
    "        r_list.append(rating)\n",
    "    \n",
    "    weighted_sum = sum([w_list[i] * r for i,r in enumerate(r_list)]) if len(r_list) > 0 else 0.0\n",
    "    sum_weight = sum(w_list) if len(w_list) > 0 else 0.0\n",
    "    \n",
    "    prediction = weighted_sum / sum_weight if sum_weight != 0.0 else 0.0\n",
    "    \n",
    "    return prediction\n"
   ]
  },
  {
   "cell_type": "code",
   "execution_count": 91,
   "metadata": {},
   "outputs": [],
   "source": [
    "# make prediction for each given (user, business) pair in the testing data\n",
    "\n",
    "results = []\n",
    "NEIGHBOR_THRE = 3\n",
    "\n",
    "for pair in test_data.values.tolist():\n",
    "    \n",
    "    target_user, target_business = pair[0], pair[1]\n",
    "    neighbor_business = user_business_dict.get(target_user)\n",
    "    \n",
    "    if neighbor_business is None:\n",
    "        results.append([target_user, target_business, 0.0])\n",
    "        continue\n",
    "    ### pseudocode ###\n",
    "    n_nearest_business = find_n_nearest_business(target_business, neighbor_business, n = 3)\n",
    "    \n",
    "    prediction = weighted_average_prediction(target_user, target_business, n_nearest_business)\n",
    "    results.append([target_user, target_business, prediction])\n"
   ]
  },
  {
   "cell_type": "code",
   "execution_count": 93,
   "metadata": {},
   "outputs": [],
   "source": [
    "# finalize the results\n",
    "# fill the missing predictions with average values\n",
    "\n",
    "avg_rating = sum(list(train_data['ratings'])) / len(train_data)\n",
    "\n",
    "def quick_check(x):\n",
    "    if x > 5:\n",
    "        return 5.0\n",
    "    elif x < 1:\n",
    "        return 1.0\n",
    "    else:\n",
    "        return x\n",
    "\n",
    "final_results = []\n",
    "\n",
    "for result in results:\n",
    "    uid, bid, prediction = result[0], result[1], result[2]\n",
    "    prediction = avg_rating if prediction == 0.0 else prediction\n",
    "    prediction = quick_check(prediction)\n",
    "    final_results.append([uid, bid, prediction])\n"
   ]
  },
  {
   "cell_type": "code",
   "execution_count": 112,
   "metadata": {},
   "outputs": [
    {
     "name": "stdout",
     "output_type": "stream",
     "text": [
      "36480 36480\n"
     ]
    }
   ],
   "source": [
    "print(len(final_results), len(test_data))"
   ]
  },
  {
   "cell_type": "code",
   "execution_count": 113,
   "metadata": {},
   "outputs": [],
   "source": [
    "# write the results to a CSV file\n",
    "\n",
    "results_df = pd.DataFrame(final_results, columns=['uid', 'bid', 'prediction'])\n",
    "results_file_path = os.path.join(data_path, 'review_prediction.csv')\n",
    "results_df.to_csv(results_file_path, index=False)\n"
   ]
  },
  {
   "cell_type": "markdown",
   "metadata": {},
   "source": [
    "### Evaluation"
   ]
  },
  {
   "cell_type": "code",
   "execution_count": 117,
   "metadata": {},
   "outputs": [],
   "source": [
    "# load ground truth for the testing data\n",
    "\n",
    "test_ground_truth_file = os.path.join(data_path, 'review_test_ground_truth.csv')\n",
    "test_ground_truth_data = pd.read_csv(test_ground_truth_file)\n",
    "test_ground_truth_data = test_ground_truth_data.rename(columns={'user_id': 'uid', 'business_id': 'bid', 'stars': 'rating'})\n",
    "\n",
    "evaluation = test_ground_truth_data.merge(results_df, on=['uid', 'bid'])\n",
    "evaluation['delta'] = evaluation['ratings'] - evaluation['prediction']"
   ]
  },
  {
   "cell_type": "code",
   "execution_count": 118,
   "metadata": {},
   "outputs": [
    {
     "name": "stdout",
     "output_type": "stream",
     "text": [
      "{0: 28070, 1: 7913, 2: 1443, 3: 267, 4: 59}\n"
     ]
    }
   ],
   "source": [
    "# method 1: count the segments\n",
    "\n",
    "segments = {0:0, 1:0, 2:0, 3:0, 4:0}\n",
    "\n",
    "for _, row in evaluation.iterrows():\n",
    "    if row['delta'] < 1.0:\n",
    "        segments[0] +=1\n",
    "    elif 1.0<= row['delta'] < 2.0:\n",
    "        segments[1] +=1\n",
    "    elif 2.0 <= row['delta'] < 3.0:\n",
    "        segments[2] +=1\n",
    "    elif 3.0 <= row['delta'] < 4.0:\n",
    "        segments[3] +=1\n",
    "    elif row['delta'] >= 4.0:\n",
    "        segments[4] +=1\n",
    "    \n",
    "print(segments)\n",
    "    "
   ]
  },
  {
   "cell_type": "code",
   "execution_count": 119,
   "metadata": {},
   "outputs": [
    {
     "name": "stdout",
     "output_type": "stream",
     "text": [
      "RMSE = 1.2221553493271007.\n"
     ]
    }
   ],
   "source": [
    "# method 2: compute RMSE\n",
    "RMSE = (sum(evaluation['delta'] ** 2) / len(evaluation)) ** 0.5\n",
    "print('RMSE = {}.'.format(RMSE))"
   ]
  },
  {
   "cell_type": "code",
   "execution_count": null,
   "metadata": {},
   "outputs": [],
   "source": []
  },
  {
   "cell_type": "code",
   "execution_count": null,
   "metadata": {},
   "outputs": [],
   "source": []
  }
 ],
 "metadata": {
  "kernelspec": {
   "display_name": "Python 3",
   "language": "python",
   "name": "python3"
  },
  "language_info": {
   "codemirror_mode": {
    "name": "ipython",
    "version": 3
   },
   "file_extension": ".py",
   "mimetype": "text/x-python",
   "name": "python",
   "nbconvert_exporter": "python",
   "pygments_lexer": "ipython3",
   "version": "3.7.3"
  }
 },
 "nbformat": 4,
 "nbformat_minor": 2
}
