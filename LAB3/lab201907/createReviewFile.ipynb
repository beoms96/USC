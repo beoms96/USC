{
 "cells": [
  {
   "cell_type": "code",
   "execution_count": 1,
   "metadata": {},
   "outputs": [],
   "source": [
    "import os\n",
    "import pandas as pd\n",
    "import numpy as np\n"
   ]
  },
  {
   "cell_type": "code",
   "execution_count": 2,
   "metadata": {},
   "outputs": [],
   "source": [
    "data_path = './data'\n",
    "\n",
    "review_file = os.path.join(data_path, 'review_train.csv')\n",
    "business_file = os.path.join(data_path, 'sub_business.csv')\n",
    "\n",
    "review_data = pd.read_csv(review_file)\n",
    "business_data = pd.read_csv(business_file)\n",
    "\n",
    "reviews_with_location = review_data.merge(business_data, on = \"bid\")\n",
    "reviews_with_location_file_path = os.path.join(data_path, 'reviews_with_location.csv')\n",
    "reviews_with_location.to_csv(reviews_with_location_file_path, index = False)"
   ]
  },
  {
   "cell_type": "code",
   "execution_count": null,
   "metadata": {},
   "outputs": [],
   "source": []
  }
 ],
 "metadata": {
  "kernelspec": {
   "display_name": "Python 3",
   "language": "python",
   "name": "python3"
  },
  "language_info": {
   "codemirror_mode": {
    "name": "ipython",
    "version": 3
   },
   "file_extension": ".py",
   "mimetype": "text/x-python",
   "name": "python",
   "nbconvert_exporter": "python",
   "pygments_lexer": "ipython3",
   "version": "3.7.3"
  }
 },
 "nbformat": 4,
 "nbformat_minor": 2
}
