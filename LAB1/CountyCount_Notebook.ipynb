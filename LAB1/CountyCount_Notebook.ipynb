{
 "cells": [
  {
   "cell_type": "code",
   "execution_count": 60,
   "metadata": {},
   "outputs": [],
   "source": [
    "import time\n",
    "from geopy.geocoders import Nominatim\n",
    "\n",
    "from collections import OrderedDict\n",
    "import operator\n",
    "\n",
    "from geopy.exc import GeocoderTimedOut\n",
    "\n",
    "import matplotlib.pyplot as plt\n",
    "\n",
    "import csv"
   ]
  },
  {
   "cell_type": "markdown",
   "metadata": {},
   "source": [
    "# Create A GeoLocator Object"
   ]
  },
  {
   "cell_type": "code",
   "execution_count": 61,
   "metadata": {},
   "outputs": [],
   "source": [
    "geolocator = Nominatim(user_agent=\"Abdullah_Alfarrarjeh_app\")"
   ]
  },
  {
   "cell_type": "markdown",
   "metadata": {},
   "source": [
    "# Cutomized Reverse Geocoding Function to avoid A \"Time-out\" Exception"
   ]
  },
  {
   "cell_type": "code",
   "execution_count": 62,
   "metadata": {},
   "outputs": [],
   "source": [
    "def do_reverse_geocode(address):\n",
    "    try:\n",
    "        return geolocator.reverse(address)\n",
    "    except GeocoderTimedOut:\n",
    "        return do_reverse_geocode(address)"
   ]
  },
  {
   "cell_type": "markdown",
   "metadata": {},
   "source": [
    "# Reverse Geocoding and Calculate \"County\" Count"
   ]
  },
  {
   "cell_type": "code",
   "execution_count": 54,
   "metadata": {},
   "outputs": [
    {
     "name": "stdout",
     "output_type": "stream",
     "text": [
      "38.28426382\t-122.4487911\tSonoma County\n",
      "37.79241348\t-122.410493\tSF\n",
      "38.45771909\t-122.4213988\tNapa County\n",
      "37.38006555\t-122.0616235\tSanta Clara County\n",
      "37.70389661\t-122.4169237\tSan Mateo County\n",
      "37.8623652\t-122.2776915\tAlameda County\n",
      "37.8355046\t-122.212054\tAlameda County\n",
      "37.77337331\t-122.4122145\tSF\n",
      "37.7109384\t-122.2160469\tAlameda County\n",
      "38.01468934\t-122.0853694\tContra Costa County\n",
      "37.7990796\t-121.3099554\tSan Joaquin County\n",
      "38.3350089\t-122.3257433\tNapa County\n",
      "37.54892903\t-121.9691475\tAlameda County\n",
      "38.65452715\t-121.3235724\tSacramento County\n",
      "37.46194636\t-122.4283357\tSan Mateo County\n",
      "37.42564948\t-121.8814992\tSanta Clara County\n",
      "38.57624071\t-121.5336279\tYolo County\n",
      "37.47090875\t-121.1422308\tStanislaus County\n",
      "37.79654251\t-121.8964663\tContra Costa County\n",
      "37.7990796\t-121.3099554\tSan Joaquin County\n",
      "38.00406635\t-121.2752641\tSan Joaquin County\n",
      "37.72546803\t-122.405785\tSF\n",
      "38.05446248\t-121.3928586\tSan Joaquin County\n",
      "37.56832411\t-122.3162052\tSan Mateo County\n",
      "38.7207651\t-121.4102772\tSacramento County\n",
      "38.0377874\t-122.2627879\tContra Costa County\n",
      "37.38185875\t-121.8628089\tSanta Clara County\n",
      "37.39067585\t-121.9744867\tSanta Clara County\n",
      "37.80175917\t-122.3970866\tSF\n",
      "37.46180952\t-122.4282215\tSan Mateo County\n",
      "37.67940667\t-122.1503411\tAlameda County\n",
      "37.98135731\t-121.3074461\tSan Joaquin County\n",
      "37.7990737\t-121.3099537\tSan Joaquin County\n",
      "38.07975907\t-122.1486562\tSolano County\n",
      "37.85886166\t-122.2417982\tAlameda County\n",
      "37.67391375\t-121.3305782\tSan Joaquin County\n",
      "38.67713414\t-121.5382712\tSacramento County\n",
      "37.67389066\t-121.3306099\tSan Joaquin County\n",
      "37.94572929\t-121.6967096\tContra Costa County\n",
      "37.79647706\t-121.896521\tContra Costa County\n",
      "38.61274801\t-121.4445332\tSacramento County\n",
      "37.83895861\t-122.2661321\tAlameda County\n",
      "38.4996973\t-121.46737\tSacramento County\n",
      "38.51537297\t-122.9832887\tSonoma County\n",
      "37.73708824\t-121.1142307\tSan Joaquin County\n",
      "37.62022989\t-122.3846161\tSan Mateo County\n",
      "37.38192285\t-121.8627792\tSanta Clara County\n",
      "37.68739414\t-122.1409813\tAlameda County\n",
      "38.01578807\t-121.9631797\tContra Costa County\n",
      "38.76393181\t-121.2401538\tPlacer County\n",
      "37.76163811\t-122.4352077\tSF\n",
      "37.7506083\t-121.4285847\tSan Joaquin County\n",
      "38.52772588\t-121.4819314\tSacramento County\n",
      "37.69189571\t-121.7556801\tAlameda County\n",
      "37.7735872\t-122.4132507\tSF\n",
      "38.58395261\t-121.5299046\tYolo County\n",
      "38.51510622\t-122.9834713\tSonoma County\n",
      "38.0366148\t-122.2632019\tContra Costa County\n",
      "38.75537725\t-121.3303892\tPlacer County\n",
      "37.68345001\t-121.924179\tAlameda County\n",
      "37.7990731\t-121.3099539\tSan Joaquin County\n",
      "37.61999931\t-122.3895556\tSan Mateo County\n",
      "38.60112303\t-121.4278083\tSacramento County\n",
      "37.7488024\t-122.1805461\tAlameda County\n",
      "38.55925338\t-121.4351962\tSacramento County\n",
      "37.47106561\t-121.1420283\tStanislaus County\n",
      "38.6860795\t-121.4640595\tSacramento County\n",
      "37.7137267\t-121.3985625\tSan Joaquin County\n",
      "38.48518391\t-121.4096498\tSacramento County\n",
      "37.70040172\t-122.0154108\tAlameda County\n",
      "38.41839359\t-121.4049575\tSacramento County\n",
      "37.69185002\t-121.7558611\tAlameda County\n",
      "37.55540519\t-121.9951884\tAlameda County\n",
      "37.78307241\t-122.3967339\tSF\n",
      "37.66203148\t-121.8735098\tAlameda County\n",
      "37.62611171\t-122.0867541\tAlameda County\n",
      "38.55152949\t-121.2389498\tSacramento County\n",
      "38.93240759\t-122.6083714\tLake County\n",
      "38.25479464\t-122.0353793\tSolano County\n",
      "37.77871687\t-122.4112211\tSF\n",
      "37.78404659\t-122.43301\tSF\n",
      "38.31556437\t-122.3084904\tNapa County\n",
      "38.67921977\t-121.2097842\tSacramento County\n",
      "37.76792765\t-121.9116404\tContra Costa County\n",
      "37.76932167\t-122.4231667\tSF\n",
      "37.99797728\t-122.3098377\tContra Costa County\n",
      "37.78010632\t-122.3980386\tSF\n",
      "37.56181244\t-121.9843965\tAlameda County\n",
      "37.86510743\t-122.2720848\tAlameda County\n",
      "37.77805875\t-122.4172962\tSF\n",
      "38.58403119\t-121.5302175\tYolo County\n",
      "37.69185002\t-121.7558611\tAlameda County\n",
      "38.93239984\t-122.6083843\tLake County\n",
      "37.98183356\t-121.7595547\tContra Costa County\n",
      "38.0049319\t-122.2558919\tContra Costa County\n",
      "37.70399597\t-122.4574035\tSan Mateo County\n",
      "38.5840024\t-121.5302389\tYolo County\n",
      "37.71371002\t-121.3986148\tSan Joaquin County\n",
      "37.38205316\t-121.8627656\tSanta Clara County\n",
      "38.8039794\t-121.2816709\tPlacer County\n",
      "[('Alameda County', 19), ('San Joaquin County', 13), ('Sacramento County', 13), ('SF', 12), ('Contra Costa County', 11), ('San Mateo County', 7), ('Santa Clara County', 6), ('Yolo County', 4), ('Sonoma County', 3), ('Napa County', 3), ('Placer County', 3), ('Stanislaus County', 2), ('Solano County', 2), ('Lake County', 2)]\n"
     ]
    }
   ],
   "source": [
    "count = 0\n",
    "         \n",
    "f_input= open(\"tweet_input.csv\",encoding=\"utf8\")\n",
    "\n",
    "final_dictionary = {}\n",
    "\n",
    "lines = [x.strip() for x in f_input.readlines()]\n",
    "for line in lines:\n",
    "    count+=1\n",
    "    \n",
    "    #first line is a headerline. Skip intentionally.\n",
    "    if count == 1:    \n",
    "        continue\n",
    "    \n",
    "    lineTokens = line.split(',')\n",
    "    latitude = lineTokens[3]\n",
    "    longitude = lineTokens[4]\n",
    "    \n",
    "    location = do_reverse_geocode(latitude + \",\" + longitude)\n",
    "    \n",
    "    county = location.raw['address']['county']   \n",
    "    print(latitude + \"\\t\" + longitude + \"\\t\" + county)\n",
    "    \n",
    "    if county not in final_dictionary:\n",
    "        final_dictionary[county] = 1\n",
    "    else:\n",
    "        final_dictionary[county] = final_dictionary[county] + 1\n",
    "                    \n",
    "    # Wait for 300 milliseconds\n",
    "    time.sleep(0.300)\n",
    "    \n",
    "sorted_d = sorted(final_dictionary.items(), key=operator.itemgetter(1), reverse=True)\n",
    "print(sorted_d)\n",
    "\n",
    "f_input.close()"
   ]
  },
  {
   "cell_type": "markdown",
   "metadata": {},
   "source": [
    "# Save Country Count into a CSV File"
   ]
  },
  {
   "cell_type": "code",
   "execution_count": 59,
   "metadata": {},
   "outputs": [],
   "source": [
    "with open('GeoRegionCount.csv', mode='w', newline = '', encoding='UTF-8') as my_file:\n",
    "    my_writer = csv.writer(my_file, delimiter=',')\n",
    "    \n",
    "    my_writer.writerow(['GeoRegion', 'Count'])\n",
    "    \n",
    "    for key in sorted_d:\n",
    "        current_RegionName = str(key[0])\n",
    "        current_Count = int(key[1])\n",
    "        \n",
    "        my_writer.writerow([current_RegionName, current_Count])"
   ]
  },
  {
   "cell_type": "markdown",
   "metadata": {},
   "source": [
    "# Plot a Histogram of County Count"
   ]
  },
  {
   "cell_type": "code",
   "execution_count": 58,
   "metadata": {},
   "outputs": [
    {
     "data": {
      "image/png": "[encoded data removed]",
      "text/plain": [
       "<Figure size 1800x216 with 1 Axes>"
      ]
     },
     "metadata": {
      "needs_background": "light"
     },
     "output_type": "display_data"
    }
   ],
   "source": [
    "plt.figure(figsize=(25, 3))\n",
    "plt.title('Spatial Distribution of Tweets')\n",
    "plt.xlabel('Counties')\n",
    "plt.ylabel('# of Tweets per county')\n",
    "plt.bar(final_dictionary.keys(), final_dictionary.values(), width=0.3, color='g')\n",
    "\n",
    "plt.show()"
   ]
  },
  {
   "cell_type": "code",
   "execution_count": null,
   "metadata": {},
   "outputs": [],
   "source": []
  },
  {
   "cell_type": "code",
   "execution_count": null,
   "metadata": {},
   "outputs": [],
   "source": []
  }
 ],
 "metadata": {
  "kernelspec": {
   "display_name": "Python 3",
   "language": "python",
   "name": "python3"
  },
  "language_info": {
   "codemirror_mode": {
    "name": "ipython",
    "version": 3
   },
   "file_extension": ".py",
   "mimetype": "text/x-python",
   "name": "python",
   "nbconvert_exporter": "python",
   "pygments_lexer": "ipython3",
   "version": "3.7.3"
  }
 },
 "nbformat": 4,
 "nbformat_minor": 2
}
