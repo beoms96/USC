{
 "cells": [
  {
   "cell_type": "markdown",
   "metadata": {},
   "source": [
    "# Import Necessary Packages"
   ]
  },
  {
   "cell_type": "code",
   "execution_count": 1,
   "metadata": {},
   "outputs": [],
   "source": [
    "import csv\n",
    "import matplotlib.pyplot as plt"
   ]
  },
  {
   "cell_type": "markdown",
   "metadata": {},
   "source": [
    "If you get an error when importing matplotlib, you need to execute the following command:\n",
    ">> pip install matplotlib"
   ]
  },
  {
   "cell_type": "markdown",
   "metadata": {},
   "source": [
    "# Reading CSV File into a dictionary"
   ]
  },
  {
   "cell_type": "code",
   "execution_count": 2,
   "metadata": {},
   "outputs": [
    {
     "name": "stdout",
     "output_type": "stream",
     "text": [
      "co\t63\n",
      "https\t62\n",
      "twice\t30\n",
      "know\t25\n",
      "make\t25\n",
      "hate\t23\n",
      "worst\t22\n",
      "life\t22\n",
      "fact\t22\n",
      "pup\t22\n",
      "da\t22\n",
      "mum\t22\n",
      "die\t20\n",
      "kpop\t16\n",
      "n\t13\n",
      "year\t7\n",
      "get\t6\n",
      "one\t5\n",
      "day\t5\n",
      "tod\t5\n"
     ]
    }
   ],
   "source": [
    "final_dictionary = {}\n",
    "\n",
    "with open('wordCount.csv', mode='r', encoding='UTF-8') as my_file:\n",
    "    csv_reader = csv.reader(my_file, delimiter=',')\n",
    "    line_count = 0\n",
    "    \n",
    "    for row in csv_reader:\n",
    "        line_count = line_count + 1\n",
    "        \n",
    "        if line_count == 1:\n",
    "            continue;\n",
    "\n",
    "        word = str(row[0])\n",
    "        count = int(row[1])\n",
    "\n",
    "        final_dictionary[word] = count\n",
    "        print(word + \"\\t\" + str(count))\n",
    "        \n",
    "        if line_count == 21:\n",
    "            break;"
   ]
  },
  {
   "cell_type": "markdown",
   "metadata": {},
   "source": [
    "# Plot Word Count"
   ]
  },
  {
   "cell_type": "code",
   "execution_count": 3,
   "metadata": {},
   "outputs": [
    {
     "data": {
      "image/png": "[encoded data removed]",
      "text/plain": [
       "<Figure size 1080x216 with 1 Axes>"
      ]
     },
     "metadata": {
      "needs_background": "light"
     },
     "output_type": "display_data"
    }
   ],
   "source": [
    "plt.figure(figsize=(15, 3))\n",
    "\n",
    "plt.title('Frequency of Most Frequent Words')\n",
    "plt.xlabel('Most Frequent Words')\n",
    "plt.ylabel('Frequency')\n",
    "\n",
    "plt.bar(final_dictionary.keys(), final_dictionary.values(), width=0.3, color='g')\n",
    "\n",
    "plt.show()"
   ]
  },
  {
   "cell_type": "code",
   "execution_count": null,
   "metadata": {},
   "outputs": [],
   "source": []
  },
  {
   "cell_type": "code",
   "execution_count": null,
   "metadata": {},
   "outputs": [],
   "source": []
  }
 ],
 "metadata": {
  "kernelspec": {
   "display_name": "Python 3",
   "language": "python",
   "name": "python3"
  },
  "language_info": {
   "codemirror_mode": {
    "name": "ipython",
    "version": 3
   },
   "file_extension": ".py",
   "mimetype": "text/x-python",
   "name": "python",
   "nbconvert_exporter": "python",
   "pygments_lexer": "ipython3",
   "version": "3.7.3"
  }
 },
 "nbformat": 4,
 "nbformat_minor": 2
}
