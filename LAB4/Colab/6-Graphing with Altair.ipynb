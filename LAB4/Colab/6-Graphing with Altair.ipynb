{
 "cells": [
  {
   "cell_type": "markdown",
   "metadata": {
    "colab_type": "text",
    "id": "pg5tXiLIJNdH"
   },
   "source": [
    "Import altair"
   ]
  },
  {
   "cell_type": "code",
   "execution_count": 0,
   "metadata": {
    "colab": {},
    "colab_type": "code",
    "id": "xqjxs15NJNdC"
   },
   "outputs": [],
   "source": [
    "import altair as alt"
   ]
  },
  {
   "cell_type": "markdown",
   "metadata": {
    "colab_type": "text",
    "id": "h4qN4-gmJNdP"
   },
   "source": [
    "Let's use iris from vega_datasets"
   ]
  },
  {
   "cell_type": "code",
   "execution_count": 0,
   "metadata": {
    "colab": {},
    "colab_type": "code",
    "id": "nOAijMoyJNdP"
   },
   "outputs": [],
   "source": [
    "from vega_datasets import data\n",
    "df = data.iris()\n",
    "df.head()"
   ]
  },
  {
   "cell_type": "markdown",
   "metadata": {
    "colab_type": "text",
    "id": "zc3ckDZK-J0t"
   },
   "source": [
    "Let's do a scatterplot specifiying the 3 required elements of the grammar (data, aesthetic mappings and mark type) "
   ]
  },
  {
   "cell_type": "code",
   "execution_count": 0,
   "metadata": {
    "colab": {},
    "colab_type": "code",
    "id": "b03ZsocO9qas"
   },
   "outputs": [],
   "source": [
    "alt.Chart(df).mark_point().encode(\n",
    "    x='petalLength',\n",
    "    y='petalWidth',\n",
    ")"
   ]
  },
  {
   "cell_type": "code",
   "execution_count": 0,
   "metadata": {
    "colab": {},
    "colab_type": "code",
    "id": "n5gSQ6vVbaFF"
   },
   "outputs": [],
   "source": [
    "alt.Chart(df).mark_circle().encode(\n",
    "  x='petalLength',\n",
    "  y='petalWidth',\n",
    ")"
   ]
  },
  {
   "cell_type": "markdown",
   "metadata": {
    "colab_type": "text",
    "id": "--HaRD6MZ4ZD"
   },
   "source": [
    "Customizations"
   ]
  },
  {
   "cell_type": "code",
   "execution_count": 0,
   "metadata": {
    "colab": {},
    "colab_type": "code",
    "id": "kqk7JeX0Z5ck"
   },
   "outputs": [],
   "source": [
    "alt.Chart(df).mark_circle(\n",
    ").encode(\n",
    "  x=alt.X('petalLength', axis=alt.Axis(title='petal length (cm)')),\n",
    "  y=alt.Y('petalWidth', axis=alt.Axis(title='petal width (cm)')),  \n",
    "  color=alt.Color('species', legend=alt.Legend(title=\"Species by color\")),\n",
    "  tooltip = ['petalWidth', 'petalLength', 'species']\n",
    ").interactive()"
   ]
  },
  {
   "cell_type": "markdown",
   "metadata": {
    "colab_type": "text",
    "id": "oVjg-U3mJNdV"
   },
   "source": [
    "Bar chart of sample type counts"
   ]
  },
  {
   "cell_type": "code",
   "execution_count": 0,
   "metadata": {
    "colab": {},
    "colab_type": "code",
    "id": "jApn7qkyJNdV"
   },
   "outputs": [],
   "source": [
    "alt.Chart(df, width=400).mark_bar().encode(\n",
    "  x=alt.X('species', axis = alt.Axis(labelAngle=0)),\n",
    "  y='count(species)',\n",
    ")"
   ]
  },
  {
   "cell_type": "markdown",
   "metadata": {
    "colab_type": "text",
    "id": "e6T0ek6PJNdi"
   },
   "source": [
    "# 🤔 Exercise 1: \n",
    "\n",
    "In a new Colab notebook, use `Altair` to create a scatterplot of the `iris` dataset showing `sepal lenght` vs. `sepal width` where the dots are colored by spieces and sized by `petal width`. \n"
   ]
  },
  {
   "cell_type": "markdown",
   "metadata": {
    "colab_type": "text",
    "id": "tIHhgvMTH9QF"
   },
   "source": [
    "# 🤔Exercise 2: \n",
    "\n",
    "In a new Colab notebook load `SMO-VOR-2015` and use `plotnine` to create a scatterplot of  the altitudes over time.\n",
    "\n",
    "You will need to disable the MaxRows check and set the `ptime` to a datetime with:\n",
    "\n",
    "```\n",
    "alt.data_transformers.disable_max_rows()\n",
    "df.ptime = pd.to_datetime(df.ptime)\n",
    "```"
   ]
  },
  {
   "cell_type": "markdown",
   "metadata": {
    "colab_type": "text",
    "id": "1M1ianfbLFEa"
   },
   "source": [
    "# 🤔Exercise 3: \n",
    "\n",
    "In a new Colab notebook load `SMO-VOR-2015` and use `Altair` to create an histogram of the altitudes.\n",
    "\n",
    "You will need to use  `mark_bar` with and set `y='count()'`\n",
    "\n",
    "To adjust the number of bins use:\n",
    "\n",
    "Use alt.X()  with `bin=alt.BinParams(maxbins=10)` "
   ]
  },
  {
   "cell_type": "markdown",
   "metadata": {
    "colab_type": "text",
    "id": "L512aJ8ETnQr"
   },
   "source": [
    "# 🤔Exercise 5: \n",
    "\n",
    "In a new Colab notebook load `SMO-VOR-2015` and use `Altair` to create an boxplot of the altitudes.\n",
    "\n",
    "You will need to use  `mark_boxplot`, e.g.,\n",
    "\n",
    "```\n",
    "mark_boxplot(extent=1.5, ticks=True)\n",
    "```"
   ]
  }
 ],
 "metadata": {
  "colab": {
   "collapsed_sections": [],
   "name": "6-Graphing with Altair_.ipynb",
   "provenance": [],
   "toc_visible": true,
   "version": "0.3.2"
  },
  "kernelspec": {
   "display_name": "Python 3",
   "language": "python",
   "name": "python3"
  },
  "language_info": {
   "codemirror_mode": {
    "name": "ipython",
    "version": 3
   },
   "file_extension": ".py",
   "mimetype": "text/x-python",
   "name": "python",
   "nbconvert_exporter": "python",
   "pygments_lexer": "ipython3",
   "version": "3.7.3"
  }
 },
 "nbformat": 4,
 "nbformat_minor": 1
}
