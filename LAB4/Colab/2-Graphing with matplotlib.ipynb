{
 "cells": [
  {
   "cell_type": "markdown",
   "metadata": {
    "colab_type": "text",
    "id": "pg5tXiLIJNdH"
   },
   "source": [
    "Import matplotlib"
   ]
  },
  {
   "cell_type": "code",
   "execution_count": 1,
   "metadata": {
    "colab": {},
    "colab_type": "code",
    "id": "xqjxs15NJNdC"
   },
   "outputs": [],
   "source": [
    "import numpy as np\n",
    "import matplotlib.pyplot as plt"
   ]
  },
  {
   "cell_type": "markdown",
   "metadata": {
    "colab_type": "text",
    "id": "h4qN4-gmJNdP"
   },
   "source": [
    "Let's use iris from sklearn"
   ]
  },
  {
   "cell_type": "code",
   "execution_count": 2,
   "metadata": {
    "colab": {},
    "colab_type": "code",
    "id": "nOAijMoyJNdP"
   },
   "outputs": [],
   "source": [
    "from sklearn import datasets\n",
    "iris = datasets.load_iris()"
   ]
  },
  {
   "cell_type": "code",
   "execution_count": 3,
   "metadata": {
    "colab": {},
    "colab_type": "code",
    "id": "b03ZsocO9qas"
   },
   "outputs": [
    {
     "data": {
      "image/png": "[encoded data removed]",
      "text/plain": [
       "<Figure size 432x288 with 1 Axes>"
      ]
     },
     "metadata": {
      "needs_background": "light"
     },
     "output_type": "display_data"
    }
   ],
   "source": [
    "?plt.scatter\n",
    "plt.scatter(iris.data[:, 0], iris.data[:, 1])\n",
    "plt.xlabel(iris.feature_names[0])\n",
    "plt.ylabel(iris.feature_names[1])\n",
    "plt.show()"
   ]
  },
  {
   "cell_type": "markdown",
   "metadata": {
    "colab_type": "text",
    "id": "oVjg-U3mJNdV"
   },
   "source": [
    "Bar chart of sample type counts"
   ]
  },
  {
   "cell_type": "code",
   "execution_count": 4,
   "metadata": {
    "colab": {},
    "colab_type": "code",
    "id": "jApn7qkyJNdV"
   },
   "outputs": [
    {
     "data": {
      "image/png": "[encoded data removed]",
      "text/plain": [
       "<Figure size 432x288 with 1 Axes>"
      ]
     },
     "metadata": {
      "needs_background": "light"
     },
     "output_type": "display_data"
    }
   ],
   "source": [
    "unique, counts = np.unique(iris.target, return_counts=True)\n",
    "\n",
    "?plt.bar\n",
    "plt.bar(np.arange(len(counts)), counts)\n",
    "plt.xticks(np.arange(len(counts)), iris.target_names)\n",
    "plt.ylabel('Samples')\n",
    "plt.title('Number of samples per species in iris dataset')\n",
    "plt.show()"
   ]
  },
  {
   "cell_type": "markdown",
   "metadata": {
    "colab_type": "text",
    "id": "e6T0ek6PJNdi"
   },
   "source": [
    "# 🤔 Exercise 1: \n",
    "\n",
    "In a new Colab notebook, use `matplotlib` to create a scatterplot of the `iris` dataset showing `sepal lenght` vs. `sepal width`  where the dots are colored by spieces. \n",
    "\n",
    "Can you find a way to deal with overplotting?\n",
    "\n",
    "You will need to look at the help:\n",
    "\n",
    "```\n",
    "?plt.scatter\n",
    "```\n",
    "\n"
   ]
  },
  {
   "cell_type": "markdown",
   "metadata": {
    "colab_type": "text",
    "id": "6Ken_436Fytp"
   },
   "source": [
    "# 🤔 Exercise 2: \n",
    "\n",
    "In a new Colab notebook load `SMO-VOR-2015` and use matplotlib to create a scatterplot of  the altitudes over time.\n",
    "\n",
    "You will need to change `ptime` to a datetime object:\n",
    "\n",
    "```\n",
    "df['ptime'] = pd.to_datetime(df['ptime'])\n",
    "```\n",
    "\n",
    "or\n",
    "\n",
    "```\n",
    "df.ptime = pd.to_datetime(df.ptime)\n",
    "```\n",
    "\n",
    "To extract lists of `alt` and `ptime` use:\n",
    "\n",
    "```\n",
    "alt = df.alt\n",
    "ptime = df.ptime\n",
    "```\n",
    "\n",
    "For a description of the `SMO-VOR-2015` load and open `SMO-VOR-2015-README.md`"
   ]
  },
  {
   "cell_type": "markdown",
   "metadata": {
    "colab_type": "text",
    "id": "YTBjsBJIQzLq"
   },
   "source": [
    "# 😖Exercise 3: \n",
    "\n",
    "In a new Colab notebook load `SMO-VOR-2015` and use matplotlib to create a bar chart of  the altitudes counts per month.\n",
    "\n",
    "Assuming you load the data in a dataframe `df` use the following dataframe of sorted counts per months:\n",
    "\n",
    "```\n",
    "months = [\"Jan\", \"Feb\", \"Mar\", \"Apr\", \"May\", \"Jun\", \"Jul\", \"Aug\", \"Sep\", \"Oct\", \"Nov\", \"Dec\"]\n",
    "df.month = pd.Categorical(df.month, categories=months, ordered=True)\n",
    "df = df.groupby(['month']).size().reset_index(name='counts')\n",
    "```"
   ]
  },
  {
   "cell_type": "markdown",
   "metadata": {
    "colab_type": "text",
    "id": "u8sI1dhIfpMm"
   },
   "source": [
    "# 🤔 Exercise 4: \n",
    "\n",
    "In a new Colab notebook load Tesla stocks `TSLA.csv` dataset and use matplotlib to create a linechart of  `Close` over time.\n",
    "\n",
    "You will need to change `Date` to a datetime object:\n",
    "\n",
    "```\n",
    "df.Date = pd.to_datetime(df.Date)\n",
    "```\n",
    "\n",
    "and use the `plt.plot` command.\n"
   ]
  }
 ],
 "metadata": {
  "colab": {
   "collapsed_sections": [],
   "name": "2-Graphing with matplotlib copy.ipynb",
   "provenance": [],
   "toc_visible": true,
   "version": "0.3.2"
  },
  "kernelspec": {
   "display_name": "Python 3",
   "language": "python",
   "name": "python3"
  },
  "language_info": {
   "codemirror_mode": {
    "name": "ipython",
    "version": 3
   },
   "file_extension": ".py",
   "mimetype": "text/x-python",
   "name": "python",
   "nbconvert_exporter": "python",
   "pygments_lexer": "ipython3",
   "version": "3.7.3"
  }
 },
 "nbformat": 4,
 "nbformat_minor": 1
}
