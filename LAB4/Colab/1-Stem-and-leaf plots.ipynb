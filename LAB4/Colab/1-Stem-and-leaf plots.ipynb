{
 "cells": [
  {
   "cell_type": "markdown",
   "metadata": {
    "colab_type": "text",
    "id": "Bqhs501V0Nt3"
   },
   "source": [
    "`stem` from R -- a statistical language and toolset -- is the easiest tool to use to create stem-and-leaf plots"
   ]
  },
  {
   "cell_type": "code",
   "execution_count": 19,
   "metadata": {
    "colab": {},
    "colab_type": "code",
    "id": "8wQQgasdreBY"
   },
   "outputs": [
    {
     "name": "stdout",
     "output_type": "stream",
     "text": [
      "The rpy2.ipython extension is already loaded. To reload it, use:\n",
      "  %reload_ext rpy2.ipython\n"
     ]
    }
   ],
   "source": [
    "%load_ext rpy2.ipython"
   ]
  },
  {
   "cell_type": "code",
   "execution_count": 20,
   "metadata": {
    "colab": {},
    "colab_type": "code",
    "id": "MWbhIo0grzDQ"
   },
   "outputs": [],
   "source": [
    "%%R\n",
    "stem(c(1, 3, 5, 10, 17, 17))"
   ]
  },
  {
   "cell_type": "markdown",
   "metadata": {
    "colab_type": "text",
    "id": "Kge65MTN0w3d"
   },
   "source": [
    "In Python we can use stemgraphic"
   ]
  },
  {
   "cell_type": "code",
   "execution_count": 21,
   "metadata": {
    "colab": {},
    "colab_type": "code",
    "id": "t4-9WRDDr2Hl"
   },
   "outputs": [],
   "source": [
    "!pip install -q stemgraphic"
   ]
  },
  {
   "cell_type": "code",
   "execution_count": 22,
   "metadata": {
    "colab": {},
    "colab_type": "code",
    "id": "Oq-Yz9mAsJXB"
   },
   "outputs": [
    {
     "name": "stdout",
     "output_type": "stream",
     "text": [
      "Help on function stem_graphic in module stemgraphic.graphic:\n",
      "\n",
      "stem_graphic(df, df2=None, aggregation=True, alpha=0.1, asc=True, ax=None, ax2=None, bar_color='C0', bar_outline=None, break_on=None, column=None, combined=None, compact=False, delimiter_color='C3', display=900, figure_only=True, flip_axes=False, font_kw=None, leaf_color='k', leaf_order=1, legend_pos='best', median_alpha=0.25, median_color='C4', mirror=False, outliers=None, outliers_color='C3', persistence=None, primary_kw=None, random_state=None, scale=None, secondary=False, secondary_kw=None, secondary_plot=None, show_stem=True, title=None, trim=False, trim_blank=True, underline_color=None, unit='', zoom=None)\n",
      "    stem_graphic\n",
      "    \n",
      "    A graphical stem and leaf plot. stem_graphic provides horizontal, vertical or mirrored layouts, sorted in\n",
      "    ascending or descending order, with sane default settings for the visuals, legend, median and outliers.\n",
      "    \n",
      "    :param df: list, numpy array, time series, pandas or dask dataframe\n",
      "    :param df2: string, filename, url, list, numpy array, time series, pandas or dask dataframe (optional).\n",
      "                for back 2 back stem-and-leaf plots\n",
      "    :param aggregation: Boolean for sum, else specify function\n",
      "    :param alpha: opacity of the bars, median and outliers, defaults to 10%\n",
      "    :param asc: stem sorted in ascending order, defaults to True\n",
      "    :param ax: matplotlib axes instance, usually from a figure or other plot\n",
      "    :param ax2: matplotlib axes instance, usually from a figure or other plot for back to back\n",
      "    :param bar_color: the fill color of the bar representing the leaves\n",
      "    :param bar_outline: the outline color of the bar representing the leaves\n",
      "    :param break_on: force a break of the leaves at x in (5, 10), defaults to 10\n",
      "    :param column: specify which column (string or number) of the dataframe to use,\n",
      "                   else the first numerical is selected\n",
      "    :param combined: list (specific subset to automatically include, say, for comparisons), or None\n",
      "    :param compact: do not display empty stem rows (with no leaves), defaults to False\n",
      "    :param delimiter_color: color of the line between aggregate and stem and stem and leaf\n",
      "    :param display: maximum number of data points to display, forces sampling if smaller than len(df)\n",
      "    :param figure_only: bool if True (default) returns matplotlib (fig,ax), False returns (fig,ax,df)\n",
      "    :param flip_axes: X becomes Y and Y becomes X\n",
      "    :param font_kw: keyword dictionary, font parameters\n",
      "    :param leaf_color: font color of the leaves\n",
      "    :param leaf_order: how many leaf digits per data point to display, defaults to 1\n",
      "    :param legend_pos: One of 'top', 'bottom', 'best' or None, defaults to 'best'.\n",
      "    :param median_alpha: opacity of median and outliers, defaults to 25%\n",
      "    :param median_color: color of the box representing the median\n",
      "    :param mirror: mirror the plot in the axis of the delimiters\n",
      "    :param outliers: display outliers - these are from the full data set, not the sample. Defaults to Auto\n",
      "    :param outliers_color: background color for the outlier boxes\n",
      "    :param persistence: filename. save sampled data to disk, either as pickle (.pkl) or csv (any other extension)\n",
      "    :param primary_kw: stem-and-leaf plot additional arguments\n",
      "    :param random_state: initial random seed for the sampling process, for reproducible research\n",
      "    :param scale: force a specific scale for building the plot. Defaults to None (automatic).\n",
      "    :param secondary: bool if True, this is a secondary plot - mostly used for back-to-back plots\n",
      "    :param secondary_kw: any matplotlib keyword supported by .plot(), for the secondary plot\n",
      "    :param secondary_plot: One or more of 'dot', 'kde', 'margin_kde', 'rug' in a comma delimited string or None\n",
      "    :param show_stem: bool if True (default) displays the stems\n",
      "    :param title: string to display as title\n",
      "    :param trim: ranges from 0 to 0.5 (50%) to remove from each end of the data set, defaults to None\n",
      "    :param trim_blank: remove the blank between the delimiter and the first leaf, defaults to True\n",
      "    :param underline_color: color of the horizontal line under the leaves, None for no display\n",
      "    :param unit: specify a string for the unit ('$', 'Kg'...). Used for outliers and for legend, defaults to ''\n",
      "    :param zoom: zoom level, on top of calculated scale (+1, -1 etc)\n",
      "    :return: matplotlib figure and axes instance\n",
      "\n"
     ]
    },
    {
     "data": {
      "text/plain": [
       "(<Figure size 540x144 with 1 Axes>,\n",
       " <matplotlib.axes._axes.Axes at 0x29f2abc8f60>)"
      ]
     },
     "execution_count": 22,
     "metadata": {},
     "output_type": "execute_result"
    },
    {
     "data": {
      "image/png": "[encoded data removed]",
      "text/plain": [
       "<Figure size 540x144 with 1 Axes>"
      ]
     },
     "metadata": {
      "needs_background": "light"
     },
     "output_type": "display_data"
    }
   ],
   "source": [
    "import stemgraphic as sg \n",
    "help(sg.stem_graphic)\n",
    "sg.stem_graphic([1, 3, 5, 10, 17, 17], compact=True)"
   ]
  },
  {
   "cell_type": "code",
   "execution_count": 23,
   "metadata": {
    "colab": {},
    "colab_type": "code",
    "id": "Udc1PWLk1JnA"
   },
   "outputs": [
    {
     "data": {
      "text/plain": [
       "(<Figure size 540x144 with 1 Axes>,\n",
       " <matplotlib.axes._axes.Axes at 0x29f2b45dba8>)"
      ]
     },
     "execution_count": 23,
     "metadata": {},
     "output_type": "execute_result"
    },
    {
     "data": {
      "image/png": "[encoded data removed]",
      "text/plain": [
       "<Figure size 540x144 with 1 Axes>"
      ]
     },
     "metadata": {
      "needs_background": "light"
     },
     "output_type": "display_data"
    }
   ],
   "source": [
    "import pandas as pd\n",
    "df = pd.Series([1, 3, 5, 10, 17, 17])\n",
    "sg.stem_graphic(df, compact=True, asc=False)"
   ]
  },
  {
   "cell_type": "code",
   "execution_count": 24,
   "metadata": {
    "colab": {},
    "colab_type": "code",
    "id": "gU7bihGCzrK3"
   },
   "outputs": [
    {
     "data": {
      "text/plain": [
       "<StemContainer object of 3 artists>"
      ]
     },
     "execution_count": 24,
     "metadata": {},
     "output_type": "execute_result"
    },
    {
     "data": {
      "image/png": "[encoded data removed]",
      "text/plain": [
       "<Figure size 432x288 with 1 Axes>"
      ]
     },
     "metadata": {
      "needs_background": "light"
     },
     "output_type": "display_data"
    }
   ],
   "source": [
    "import matplotlib.pyplot as plt\n",
    "plt.stem([1, 3, 5, 10, 17, 17])"
   ]
  },
  {
   "cell_type": "markdown",
   "metadata": {
    "colab_type": "text",
    "id": "_IYf5f1xxZqs"
   },
   "source": [
    "# 🤔 Exercise 1: \n",
    "\n",
    "In a new Colab notebook, use R `stem` to create a stem-and-leaf plot of the cholesterol level `heart-decease.cleveland.csv`\n",
    "\n",
    "You will need to read the CSV file as an R dataframe and print the dataframe: \n",
    "\n",
    "```R\n",
    "%%R\n",
    "df <- read.csv('heart-decease-cleveland.csv')\n",
    "df\n",
    "```\n",
    "\n",
    "and access the cholesterol level column with:\n",
    "\n",
    "```R\n",
    "df$chol\n",
    "```\n"
   ]
  },
  {
   "cell_type": "markdown",
   "metadata": {
    "colab_type": "text",
    "id": "yYJPZzdJQ1Se"
   },
   "source": [
    "# 🤔 Exercise 2: \n",
    "\n",
    "In a new Colab notebook load `heart-decease.cleveland.csv` and:\n",
    "\n",
    "1. Use `stem_graphic` to create a stem-and-leaf plot of the cholesterol level; add a title, display the units as `mg/dl` and list values in descending order\n",
    "2. Create a stem plot using matplotlib"
   ]
  },
  {
   "cell_type": "code",
   "execution_count": null,
   "metadata": {},
   "outputs": [],
   "source": []
  }
 ],
 "metadata": {
  "colab": {
   "collapsed_sections": [],
   "name": "1-Stem-and-leaf plots-solutions copy.ipynb",
   "provenance": [],
   "toc_visible": true,
   "version": "0.3.2"
  },
  "kernelspec": {
   "display_name": "Python 3",
   "language": "python",
   "name": "python3"
  },
  "language_info": {
   "codemirror_mode": {
    "name": "ipython",
    "version": 3
   },
   "file_extension": ".py",
   "mimetype": "text/x-python",
   "name": "python",
   "nbconvert_exporter": "python",
   "pygments_lexer": "ipython3",
   "version": "3.7.3"
  }
 },
 "nbformat": 4,
 "nbformat_minor": 1
}
