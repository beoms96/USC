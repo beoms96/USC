{
 "cells": [
  {
   "cell_type": "markdown",
   "metadata": {
    "colab_type": "text",
    "id": "pg5tXiLIJNdH"
   },
   "source": [
    "🚀Import `Seaborn` and `Pandas`"
   ]
  },
  {
   "cell_type": "code",
   "execution_count": 1,
   "metadata": {
    "colab": {},
    "colab_type": "code",
    "id": "xqjxs15NJNdC"
   },
   "outputs": [],
   "source": [
    "import numpy as np  #import numpy\n",
    "import pandas as pd  #import pandas\n",
    "import seaborn as sns"
   ]
  },
  {
   "cell_type": "markdown",
   "metadata": {
    "colab_type": "text",
    "id": "ovJcVEz8As1F"
   },
   "source": [
    "Let's see what datasets come with `Seaborn`"
   ]
  },
  {
   "cell_type": "code",
   "execution_count": 2,
   "metadata": {
    "colab": {},
    "colab_type": "code",
    "id": "evl64gaKAopb"
   },
   "outputs": [
    {
     "name": "stderr",
     "output_type": "stream",
     "text": [
      "C:\\Program Files\\Anaconda3\\lib\\site-packages\\seaborn\\utils.py:376: UserWarning: No parser was explicitly specified, so I'm using the best available HTML parser for this system (\"lxml\"). This usually isn't a problem, but if you run this code on another system, or in a different virtual environment, it may use a different parser and behave differently.\n",
      "\n",
      "The code that caused this warning is on line 376 of the file C:\\Program Files\\Anaconda3\\lib\\site-packages\\seaborn\\utils.py. To get rid of this warning, pass the additional argument 'features=\"lxml\"' to the BeautifulSoup constructor.\n",
      "\n",
      "  gh_list = BeautifulSoup(http)\n"
     ]
    },
    {
     "data": {
      "text/plain": [
       "['anscombe',\n",
       " 'attention',\n",
       " 'brain_networks',\n",
       " 'car_crashes',\n",
       " 'diamonds',\n",
       " 'dots',\n",
       " 'exercise',\n",
       " 'flights',\n",
       " 'fmri',\n",
       " 'gammas',\n",
       " 'iris',\n",
       " 'mpg',\n",
       " 'planets',\n",
       " 'tips',\n",
       " 'titanic']"
      ]
     },
     "execution_count": 2,
     "metadata": {},
     "output_type": "execute_result"
    }
   ],
   "source": [
    "sns.get_dataset_names()"
   ]
  },
  {
   "cell_type": "markdown",
   "metadata": {
    "colab_type": "text",
    "id": "h4qN4-gmJNdP"
   },
   "source": [
    "Let's see how iris in `Seaborn` differs from the one in `sklearn`"
   ]
  },
  {
   "cell_type": "code",
   "execution_count": 3,
   "metadata": {
    "colab": {},
    "colab_type": "code",
    "id": "nOAijMoyJNdP"
   },
   "outputs": [
    {
     "data": {
      "text/html": [
       "<div>\n",
       "<style scoped>\n",
       "    .dataframe tbody tr th:only-of-type {\n",
       "        vertical-align: middle;\n",
       "    }\n",
       "\n",
       "    .dataframe tbody tr th {\n",
       "        vertical-align: top;\n",
       "    }\n",
       "\n",
       "    .dataframe thead th {\n",
       "        text-align: right;\n",
       "    }\n",
       "</style>\n",
       "<table border=\"1\" class=\"dataframe\">\n",
       "  <thead>\n",
       "    <tr style=\"text-align: right;\">\n",
       "      <th></th>\n",
       "      <th>sepal_length</th>\n",
       "      <th>sepal_width</th>\n",
       "      <th>petal_length</th>\n",
       "      <th>petal_width</th>\n",
       "      <th>species</th>\n",
       "    </tr>\n",
       "  </thead>\n",
       "  <tbody>\n",
       "    <tr>\n",
       "      <th>0</th>\n",
       "      <td>5.1</td>\n",
       "      <td>3.5</td>\n",
       "      <td>1.4</td>\n",
       "      <td>0.2</td>\n",
       "      <td>setosa</td>\n",
       "    </tr>\n",
       "    <tr>\n",
       "      <th>1</th>\n",
       "      <td>4.9</td>\n",
       "      <td>3.0</td>\n",
       "      <td>1.4</td>\n",
       "      <td>0.2</td>\n",
       "      <td>setosa</td>\n",
       "    </tr>\n",
       "    <tr>\n",
       "      <th>2</th>\n",
       "      <td>4.7</td>\n",
       "      <td>3.2</td>\n",
       "      <td>1.3</td>\n",
       "      <td>0.2</td>\n",
       "      <td>setosa</td>\n",
       "    </tr>\n",
       "    <tr>\n",
       "      <th>3</th>\n",
       "      <td>4.6</td>\n",
       "      <td>3.1</td>\n",
       "      <td>1.5</td>\n",
       "      <td>0.2</td>\n",
       "      <td>setosa</td>\n",
       "    </tr>\n",
       "    <tr>\n",
       "      <th>4</th>\n",
       "      <td>5.0</td>\n",
       "      <td>3.6</td>\n",
       "      <td>1.4</td>\n",
       "      <td>0.2</td>\n",
       "      <td>setosa</td>\n",
       "    </tr>\n",
       "  </tbody>\n",
       "</table>\n",
       "</div>"
      ],
      "text/plain": [
       "   sepal_length  sepal_width  petal_length  petal_width species\n",
       "0           5.1          3.5           1.4          0.2  setosa\n",
       "1           4.9          3.0           1.4          0.2  setosa\n",
       "2           4.7          3.2           1.3          0.2  setosa\n",
       "3           4.6          3.1           1.5          0.2  setosa\n",
       "4           5.0          3.6           1.4          0.2  setosa"
      ]
     },
     "execution_count": 3,
     "metadata": {},
     "output_type": "execute_result"
    }
   ],
   "source": [
    "from sklearn import datasets\n",
    "sklearn_iris = datasets.load_iris()\n",
    "#df = pd.DataFrame(iris.data)\n",
    "\n",
    "iris = sns.load_dataset(\"iris\")  #https://github.com/mwaskom/seaborn-data\n",
    "iris.head()"
   ]
  },
  {
   "cell_type": "markdown",
   "metadata": {
    "colab_type": "text",
    "id": "sd7D2N3majd4"
   },
   "source": [
    "✏ and plot using `scatterplot`, note that in matplotlib we used `scatter` 😁"
   ]
  },
  {
   "cell_type": "code",
   "execution_count": 7,
   "metadata": {
    "colab": {},
    "colab_type": "code",
    "id": "b03ZsocO9qas"
   },
   "outputs": [
    {
     "data": {
      "text/plain": [
       "[Text(0, 0.5, 'sepal width (cm)'),\n",
       " Text(0.5, 0, 'sepal length (cm)'),\n",
       " Text(0.5, 1.0, 'Iris sepal dimensions')]"
      ]
     },
     "execution_count": 7,
     "metadata": {},
     "output_type": "execute_result"
    },
    {
     "data": {
      "image/png": "[encoded data removed]",
      "text/plain": [
       "<Figure size 432x288 with 1 Axes>"
      ]
     },
     "metadata": {
      "needs_background": "light"
     },
     "output_type": "display_data"
    }
   ],
   "source": [
    "?sns.scatterplot\n",
    "\n",
    "ax = sns.scatterplot(x='sepal_length', y='sepal_width', data=iris);\n",
    "ax.set(xlabel='sepal length (cm)', ylabel='sepal width (cm)', title='Iris sepal dimensions')"
   ]
  },
  {
   "cell_type": "markdown",
   "metadata": {
    "colab_type": "text",
    "id": "oVjg-U3mJNdV"
   },
   "source": [
    "Bar chart of sample type counts"
   ]
  },
  {
   "cell_type": "code",
   "execution_count": 5,
   "metadata": {
    "colab": {},
    "colab_type": "code",
    "id": "jApn7qkyJNdV"
   },
   "outputs": [
    {
     "data": {
      "text/plain": [
       "[Text(0.5, 1.0, 'Number of samples per species in iris dataset')]"
      ]
     },
     "execution_count": 5,
     "metadata": {},
     "output_type": "execute_result"
    },
    {
     "data": {
      "image/png": "[encoded data removed]",
      "text/plain": [
       "<Figure size 432x288 with 1 Axes>"
      ]
     },
     "metadata": {
      "needs_background": "light"
     },
     "output_type": "display_data"
    }
   ],
   "source": [
    "iris_counts = iris[['species']].groupby('species').size().reset_index(name='counts')\n",
    "\n",
    "?sns.barplot\n",
    "ax = sns.barplot(x='species', y='counts', data=iris_counts)\n",
    "ax.set(title='Number of samples per species in iris dataset')"
   ]
  },
  {
   "cell_type": "markdown",
   "metadata": {
    "colab_type": "text",
    "id": "zfmDuYI_PI6P"
   },
   "source": [
    "A better way to do this?"
   ]
  },
  {
   "cell_type": "code",
   "execution_count": 6,
   "metadata": {
    "colab": {},
    "colab_type": "code",
    "id": "zyZo47MDPMR_"
   },
   "outputs": [
    {
     "data": {
      "text/plain": [
       "[Text(0.5, 1.0, 'Number of samples per species in iris dataset')]"
      ]
     },
     "execution_count": 6,
     "metadata": {},
     "output_type": "execute_result"
    },
    {
     "data": {
      "image/png": "[encoded data removed]",
      "text/plain": [
       "<Figure size 432x288 with 1 Axes>"
      ]
     },
     "metadata": {
      "needs_background": "light"
     },
     "output_type": "display_data"
    }
   ],
   "source": [
    "?sns.countplot\n",
    "ax = sns.countplot(x='species', data=iris_counts)\n",
    "ax.set(title='Number of samples per species in iris dataset')"
   ]
  },
  {
   "cell_type": "markdown",
   "metadata": {
    "colab_type": "text",
    "id": "Pe4GCofD839q"
   },
   "source": [
    "# 🤔 Exercise 1: \n",
    "\n",
    "In a new Colab notebook, use `Seaborn` to create a scatterplot of the `iris` dataset showing `sepal lenght` vs. `sepal width` where the dots are colored by spieces. \n",
    "\n",
    "Can you find a way to deal with overplotting?\n",
    "\n",
    "How is this different from the same plot made with `matplotlib`?\n",
    "\n",
    "You will need to look at the help:\n",
    "\n",
    "```\n",
    "?sns.scatterplot\n",
    "```"
   ]
  },
  {
   "cell_type": "markdown",
   "metadata": {
    "colab_type": "text",
    "id": "e6T0ek6PJNdi"
   },
   "source": [
    "# 🤔 Exercise 2: \n",
    "\n",
    "In a new Colab notebook, use `Seaborn` to create a scatterplot of the `iris` dataset showing `sepal lenght` vs. `sepal width` and where dots radius depends on `petal length`. \n",
    "\n",
    "Can you find a way to deal with overplotting?\n",
    "\n",
    "How is this different from the same plot made with `matplotlib`?\n",
    "\n",
    "You will need to look at the help:\n",
    "\n",
    "```\n",
    "?sns.scatterplot\n",
    "```\n",
    "\n"
   ]
  },
  {
   "cell_type": "markdown",
   "metadata": {
    "colab_type": "text",
    "id": "6Ken_436Fytp"
   },
   "source": [
    "# 😖Exercise 3: \n",
    "\n",
    "In a new Colab notebook load `SMO-VOR-2015` and use `Seaborn` to create a scatterplot of  the altitudes over time.\n",
    "\n",
    "Can you deal with overplotting?\n",
    "\n",
    "You will need to change `ptime` to a datetime object:\n",
    "\n",
    "```\n",
    "df.ptime = pd.to_datetime(df.ptime)\n",
    "```\n",
    "\n",
    ", you can resize the figure with:\n",
    "\n",
    "```\n",
    "import matplotlib.pyplot as plt\n",
    "plt.figure(figsize=(16, 6))\n",
    "```\n",
    "\n",
    ", to remove the dot's edge color you can use\n",
    "\n",
    "```\n",
    "edgecolor=None\n",
    "```\n",
    "\n",
    ", and to limit the xaxis\n",
    "\n",
    "```\n",
    "ax.set(xlim=(df.ptime.min(), df.ptime.max())\n",
    "```"
   ]
  },
  {
   "cell_type": "markdown",
   "metadata": {
    "colab_type": "text",
    "id": "_7PJt4-U6Jjm"
   },
   "source": [
    "# 🤔 Exercise 4: \n",
    "\n",
    "In a new Colab notebook load `SMO-VOR-2015` and use `Seaborn` to create a boxplot of  the altitudes over time.\n",
    "\n",
    "You will need to look at the help:\n",
    "\n",
    "```\n",
    "?sns.boxplot\n",
    "```"
   ]
  },
  {
   "cell_type": "markdown",
   "metadata": {
    "colab_type": "text",
    "id": "7NrMKvqQ6rnz"
   },
   "source": [
    "# 🤔 Exercise 5: \n",
    "\n",
    "In a new Colab notebook load `SMO-VOR-2015` and use `Seaborn` to create an histogram of  the altitudes over time.\n",
    "\n",
    "You will need to look at the help:\n",
    "\n",
    "```\n",
    "?sns.boxplot\n",
    "```"
   ]
  }
 ],
 "metadata": {
  "colab": {
   "collapsed_sections": [],
   "name": "4-Graphing with Seaborn_.ipynb",
   "provenance": [],
   "toc_visible": true,
   "version": "0.3.2"
  },
  "kernelspec": {
   "display_name": "Python 3",
   "language": "python",
   "name": "python3"
  },
  "language_info": {
   "codemirror_mode": {
    "name": "ipython",
    "version": 3
   },
   "file_extension": ".py",
   "mimetype": "text/x-python",
   "name": "python",
   "nbconvert_exporter": "python",
   "pygments_lexer": "ipython3",
   "version": "3.7.3"
  }
 },
 "nbformat": 4,
 "nbformat_minor": 1
}
